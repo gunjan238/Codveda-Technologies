{
 "cells": [
  {
   "cell_type": "markdown",
   "id": "04b00c88",
   "metadata": {},
   "source": [
    "## **Regression Analysis**\n",
    "\n",
    "\n",
    "**Objectives**\n",
    "- Split the dataset into training and testing sets.\n",
    "- Fit a linear regression model using scikit-learn.\n",
    "- Interpret the coefficients and evaluate the model using\n",
    "metrics such as R-squared and mean squared error.\n",
    "\n"
   ]
  },
  {
   "cell_type": "markdown",
   "id": "ea7653a7",
   "metadata": {},
   "source": [
    "#### 1. Load the libraries"
   ]
  },
  {
   "cell_type": "code",
   "execution_count": null,
   "id": "34f90305",
   "metadata": {},
   "outputs": [],
   "source": [
    "import pandas as pd\n",
    "import matplotlib.pyplot as plt\n",
    "from sklearn.model_selection import train_test_split\n",
    "from sklearn.linear_model import LinearRegression\n",
    "from sklearn.metrics import mean_squared_error, r2_score"
   ]
  },
  {
   "cell_type": "markdown",
   "id": "8bb67c37",
   "metadata": {},
   "source": [
    "#### 2. Load data"
   ]
  },
  {
   "cell_type": "code",
   "execution_count": null,
   "id": "21c267b6",
   "metadata": {},
   "outputs": [],
   "source": [
    "boston_housing = "
   ]
  }
 ],
 "metadata": {
  "language_info": {
   "name": "python"
  }
 },
 "nbformat": 4,
 "nbformat_minor": 5
}
